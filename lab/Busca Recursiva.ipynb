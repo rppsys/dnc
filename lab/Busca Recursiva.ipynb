{
 "cells": [
  {
   "cell_type": "code",
   "execution_count": 2,
   "metadata": {},
   "outputs": [],
   "source": [
    "import criarDBTemp as db"
   ]
  },
  {
   "cell_type": "code",
   "execution_count": 4,
   "metadata": {},
   "outputs": [
    {
     "name": "stdout",
     "output_type": "stream",
     "text": [
      "tbNO:\n",
      "    typeNO  codPointer  drwGX  drwGY  drwLev  drwHei  drwPos drwRel  booActive\n",
      "cod                                                                           \n",
      "1     root           0     -1     -1      -1      -1      -1                 1\n",
      "2      tag           1     -1     -1      -1      -1      -1                 1\n",
      "3      tag           2     -1     -1      -1      -1      -1                 1\n",
      "4      tag           3     -1     -1      -1      -1      -1                 1\n",
      "5      tag           4     -1     -1      -1      -1      -1                 1\n",
      "6      tag           5     -1     -1      -1      -1      -1                 1\n",
      "7      tag           6     -1     -1      -1      -1      -1                 1\n",
      "8      tag           7     -1     -1      -1      -1      -1                 1\n",
      "9      tag           8     -1     -1      -1      -1      -1                 1\n",
      "10     tag           9     -1     -1      -1      -1      -1                 1\n",
      "11     tag          10     -1     -1      -1      -1      -1                 1\n",
      "12     tag          11     -1     -1      -1      -1      -1                 1\n",
      "13     tag          12     -1     -1      -1      -1      -1                 1\n",
      "14     tag          13     -1     -1      -1      -1      -1                 1\n",
      "15     tag          14     -1     -1      -1      -1      -1                 1\n",
      "16     tag          15     -1     -1      -1      -1      -1                 1\n",
      "17     tag          16     -1     -1      -1      -1      -1                 1\n",
      "18     tag          17     -1     -1      -1      -1      -1                 1\n",
      "19     tag          18     -1     -1      -1      -1      -1                 1\n",
      "20     tag          19     -1     -1      -1      -1      -1                 1\n",
      "21     tag          20     -1     -1      -1      -1      -1                 1\n",
      "22     tag          21     -1     -1      -1      -1      -1                 1\n",
      "23     tag          22     -1     -1      -1      -1      -1                 1\n",
      "24     tag          23     -1     -1      -1      -1      -1                 1\n",
      "25     tag          24     -1     -1      -1      -1      -1                 1\n",
      "tbAD:\n",
      "       typeAD  codFrom  codTo\n",
      "cod                          \n",
      "1    root-mod        1      2\n",
      "2     mod-sub        2      3\n",
      "3    sub-cond        3      4\n",
      "4    cond-tag        4      5\n",
      "5     tag-tag        5      6\n",
      "6    tag-leaf        6      7\n",
      "7    tag-leaf        6      8\n",
      "8     tag-tag        5      9\n",
      "9    tag-leaf        9     10\n",
      "10   tag-leaf        9     11\n",
      "11    tag-tag        5     12\n",
      "12   tag-leaf       12     13\n",
      "13   tag-leaf       12     14\n",
      "14   sub-cond        3     15\n",
      "15   cond-tag       15     16\n",
      "16    tag-tag       16     17\n",
      "17   tag-leaf       17     18\n",
      "18   tag-leaf       17     19\n",
      "19    tag-tag       16     20\n",
      "20   tag-leaf       20     21\n",
      "21   tag-leaf       20     22\n",
      "22    tag-tag       16     23\n",
      "23   tag-leaf       23     24\n",
      "24   tag-leaf       23     25\n",
      "tbTAG:\n",
      "       strNAME strTYPE  booLEAF  codNO\n",
      "cod                                   \n",
      "0         ROOT    root        0      1\n",
      "1         Zouk     mod        0      2\n",
      "2           V1     sub        0      3\n",
      "3     Condutor    cond        0      4\n",
      "4          BAS     tag        0      5\n",
      "5          LAT     tag        0      6\n",
      "6          ESQ    leaf        0      7\n",
      "7          DIR    leaf        0      8\n",
      "8          VER     tag        0      9\n",
      "9          FRT    leaf        0     10\n",
      "10         TRZ    leaf        0     11\n",
      "11         LUG     tag        0     12\n",
      "12         ESQ    leaf        0     13\n",
      "13         DIR    leaf        0     14\n",
      "14   Conduzido    cond        0     15\n",
      "15         BAS     tag        0     16\n",
      "16         LAT     tag        0     17\n",
      "17         ESQ    leaf        0     18\n",
      "18         DIR    leaf        0     19\n",
      "19         VER     tag        0     20\n",
      "20         FRT    leaf        0     21\n",
      "21         TRZ    leaf        0     22\n",
      "22         LUG     tag        0     23\n",
      "23         ESQ    leaf        0     24\n",
      "24         DIR    leaf        0     25\n"
     ]
    }
   ],
   "source": [
    "db.gerarDB('ZOUK')"
   ]
  },
  {
   "cell_type": "code",
   "execution_count": 1,
   "metadata": {},
   "outputs": [],
   "source": [
    "import sqlite3\n",
    "import datetime\n",
    "import numpy as np\n",
    "import pandas as pd\n",
    "import csv"
   ]
  },
  {
   "cell_type": "markdown",
   "metadata": {},
   "source": [
    "### Fazer busca recursiva começando do root até cada folha e printar caminhos"
   ]
  },
  {
   "cell_type": "code",
   "execution_count": 54,
   "metadata": {},
   "outputs": [],
   "source": [
    "def pesqR(strDbTree,intNodo):\n",
    "    connR=sqlite3.connect(strDbTree)\n",
    "    sqlR = '''\n",
    "    Select\n",
    "    tbNO.cod as cod,\n",
    "    tbNO.typeNO as typeNO,\n",
    "    tbNO.codPointer as codPointer,\n",
    "    tbNO.drwGX as drwGX,\n",
    "    tbNO.drwGY as drwGY, \n",
    "    tbNO.drwLev as dwrLev, \n",
    "    tbNO.drwHei as drwHei, \n",
    "    tbNO.drwPos as drwPos,\n",
    "    tbNO.drwRel as drwRel, \n",
    "    tbNO.booActive as booActive,\n",
    "    tbTAG.cod as codTAG,\n",
    "    tbTAG.strNAME as strNAME,\n",
    "    tbTAG.strTYPE as strTYPE,\n",
    "    tbTAG.booLeaf as booLEAF,\n",
    "    tbTAG.codNO as codNO    \n",
    "    From tbNO, tbTAG\n",
    "    Where tbNO.cod > 0\n",
    "    And tbTAG.codNO = tbNO.cod\n",
    "    And tbTAG.cod = tbNO.codPointer\n",
    "    And tbTAG.codNO = ''' + str(intNodo)\n",
    "    curR=connR.cursor()\n",
    "    curR.execute(sqlR)\n",
    "    colnamesR = [description[0] for description in curR.description]\n",
    "    rowsR=curR.fetchall()\n",
    "    dfR = pd.DataFrame.from_records(rowsR,columns=colnamesR)\n",
    "    dfR.index = dfR['cod']\n",
    "    dfR.drop('cod',axis=1,inplace=True)\n",
    "    return dfR"
   ]
  },
  {
   "cell_type": "code",
   "execution_count": 57,
   "metadata": {},
   "outputs": [],
   "source": [
    "def pesqP(strDbTree,intNodo):\n",
    "    connP=sqlite3.connect(strDbTree)\n",
    "    sqlP = '''\n",
    "    Select\n",
    "    tbAD.cod as cod,\n",
    "    tbAD.typeAD as typeAD,\n",
    "    tbAD.codFrom as codFrom,\n",
    "    tbAD.codTo as codTo,\n",
    "    tbTAG.cod as codTAG,\n",
    "    tbTAG.strNAME as strNAME,\n",
    "    tbTAG.strTYPE as strTYPE,\n",
    "    tbTAG.booLeaf as booLEAF,\n",
    "    tbTAG.codNO as codNO    \n",
    "    From tbAD, tbTAG\n",
    "    Where tbAD.cod > 0\n",
    "    And tbAD.codTo = tbTAG.codNO\n",
    "    And tbAD.codFrom = ''' + str(intNodo) + '''\n",
    "    Order By tbTAG.codNo    \n",
    "    '''\n",
    "    curP=connP.cursor()\n",
    "    curP.execute(sqlP)\n",
    "    colnamesP = [description[0] for description in curP.description]\n",
    "    rowsP=curP.fetchall()\n",
    "    dfP = pd.DataFrame.from_records(rowsP,columns=colnamesP)\n",
    "    dfP.index = dfP['cod']\n",
    "    dfP.drop('cod',axis=1,inplace=True)\n",
    "    return dfP\n",
    "\n"
   ]
  },
  {
   "cell_type": "code",
   "execution_count": 60,
   "metadata": {},
   "outputs": [],
   "source": [
    "a = pesquisaR(strDbTree,1)"
   ]
  },
  {
   "cell_type": "code",
   "execution_count": 74,
   "metadata": {},
   "outputs": [
    {
     "data": {
      "text/plain": [
       "'ROOT'"
      ]
     },
     "execution_count": 74,
     "metadata": {},
     "output_type": "execute_result"
    }
   ],
   "source": [
    "a['strNAME'].values[0]"
   ]
  },
  {
   "cell_type": "code",
   "execution_count": 3,
   "metadata": {},
   "outputs": [
    {
     "ename": "NameError",
     "evalue": "name 'pesqR' is not defined",
     "output_type": "error",
     "traceback": [
      "\u001b[1;31m---------------------------------------------------------------------------\u001b[0m",
      "\u001b[1;31mNameError\u001b[0m                                 Traceback (most recent call last)",
      "\u001b[1;32m<ipython-input-3-7e7a8c1a77c4>\u001b[0m in \u001b[0;36m<module>\u001b[1;34m()\u001b[0m\n\u001b[0;32m     17\u001b[0m \u001b[1;33m\u001b[0m\u001b[0m\n\u001b[0;32m     18\u001b[0m \u001b[1;33m\u001b[0m\u001b[0m\n\u001b[1;32m---> 19\u001b[1;33m \u001b[0mrecPrint\u001b[0m\u001b[1;33m(\u001b[0m\u001b[1;36m1\u001b[0m\u001b[1;33m,\u001b[0m\u001b[1;34m''\u001b[0m\u001b[1;33m)\u001b[0m\u001b[1;33m\u001b[0m\u001b[0m\n\u001b[0m",
      "\u001b[1;32m<ipython-input-3-7e7a8c1a77c4>\u001b[0m in \u001b[0;36mrecPrint\u001b[1;34m(intNodo, strRec)\u001b[0m\n\u001b[0;32m      2\u001b[0m \u001b[1;33m\u001b[0m\u001b[0m\n\u001b[0;32m      3\u001b[0m \u001b[1;32mdef\u001b[0m \u001b[0mrecPrint\u001b[0m\u001b[1;33m(\u001b[0m\u001b[0mintNodo\u001b[0m\u001b[1;33m=\u001b[0m\u001b[1;34m'1'\u001b[0m\u001b[1;33m,\u001b[0m\u001b[0mstrRec\u001b[0m\u001b[1;33m=\u001b[0m\u001b[1;34m''\u001b[0m\u001b[1;33m)\u001b[0m\u001b[1;33m:\u001b[0m\u001b[1;33m\u001b[0m\u001b[0m\n\u001b[1;32m----> 4\u001b[1;33m     \u001b[0mdfR\u001b[0m \u001b[1;33m=\u001b[0m \u001b[0mpesqR\u001b[0m\u001b[1;33m(\u001b[0m\u001b[0mstrDbTree\u001b[0m\u001b[1;33m,\u001b[0m\u001b[0mintNodo\u001b[0m\u001b[1;33m)\u001b[0m\u001b[1;33m\u001b[0m\u001b[0m\n\u001b[0m\u001b[0;32m      5\u001b[0m     \u001b[0mprint\u001b[0m\u001b[1;33m(\u001b[0m\u001b[0mstrRec\u001b[0m\u001b[1;33m)\u001b[0m\u001b[1;33m\u001b[0m\u001b[0m\n\u001b[0;32m      6\u001b[0m \u001b[1;33m\u001b[0m\u001b[0m\n",
      "\u001b[1;31mNameError\u001b[0m: name 'pesqR' is not defined"
     ]
    }
   ],
   "source": [
    "strDbTree = 'DB\\ZOUK\\dbDanceZOUK.db'\n",
    "\n",
    "     \n",
    "\n",
    "    \n",
    "\n",
    "\n",
    "recPrint(1,'')"
   ]
  },
  {
   "cell_type": "code",
   "execution_count": null,
   "metadata": {},
   "outputs": [],
   "source": [
    "\n",
    "\n",
    "\n",
    "\n",
    "\n",
    "\n",
    "\n",
    "\n",
    "\n",
    "\n",
    "\n",
    "\n",
    "\n",
    "\n",
    "\n",
    "\n",
    "\n",
    "\n",
    "\n",
    "\n",
    "\n",
    "\n",
    "\n",
    "\n",
    "\n",
    "\n",
    "\n",
    "\n",
    "\n",
    "\n",
    "\n",
    "\n",
    "\n",
    "\n",
    "\n",
    "\n",
    "\n",
    "\n",
    "\n",
    "\n",
    "\n",
    "\n",
    "\n",
    "\n",
    "\n",
    "\n",
    "\n",
    "\n",
    "\n",
    "\n",
    "\n",
    "\n",
    "\n",
    "\n",
    "\n",
    "\n",
    "\n",
    "\n",
    "\n",
    "\n",
    "\n",
    "\n",
    "\n",
    "\n",
    "\n",
    "\n",
    "\n",
    "\n",
    "\n",
    "\n",
    "\n",
    "\n",
    "\n"
   ]
  },
  {
   "cell_type": "code",
   "execution_count": 30,
   "metadata": {},
   "outputs": [
    {
     "data": {
      "text/html": [
       "<div>\n",
       "<style scoped>\n",
       "    .dataframe tbody tr th:only-of-type {\n",
       "        vertical-align: middle;\n",
       "    }\n",
       "\n",
       "    .dataframe tbody tr th {\n",
       "        vertical-align: top;\n",
       "    }\n",
       "\n",
       "    .dataframe thead th {\n",
       "        text-align: right;\n",
       "    }\n",
       "</style>\n",
       "<table border=\"1\" class=\"dataframe\">\n",
       "  <thead>\n",
       "    <tr style=\"text-align: right;\">\n",
       "      <th></th>\n",
       "      <th>typeNO</th>\n",
       "      <th>codPointer</th>\n",
       "      <th>drwGX</th>\n",
       "      <th>drwGY</th>\n",
       "      <th>dwrLev</th>\n",
       "      <th>drwHei</th>\n",
       "      <th>drwPos</th>\n",
       "      <th>drwRel</th>\n",
       "      <th>booActive</th>\n",
       "      <th>codTAG</th>\n",
       "      <th>strNAME</th>\n",
       "      <th>strTYPE</th>\n",
       "      <th>booLEAF</th>\n",
       "      <th>codNO</th>\n",
       "    </tr>\n",
       "    <tr>\n",
       "      <th>cod</th>\n",
       "      <th></th>\n",
       "      <th></th>\n",
       "      <th></th>\n",
       "      <th></th>\n",
       "      <th></th>\n",
       "      <th></th>\n",
       "      <th></th>\n",
       "      <th></th>\n",
       "      <th></th>\n",
       "      <th></th>\n",
       "      <th></th>\n",
       "      <th></th>\n",
       "      <th></th>\n",
       "      <th></th>\n",
       "    </tr>\n",
       "  </thead>\n",
       "  <tbody>\n",
       "    <tr>\n",
       "      <th>6</th>\n",
       "      <td>tag</td>\n",
       "      <td>5</td>\n",
       "      <td>-1</td>\n",
       "      <td>-1</td>\n",
       "      <td>-1</td>\n",
       "      <td>-1</td>\n",
       "      <td>-1</td>\n",
       "      <td></td>\n",
       "      <td>1</td>\n",
       "      <td>5</td>\n",
       "      <td>LAT</td>\n",
       "      <td>tag</td>\n",
       "      <td>0</td>\n",
       "      <td>6</td>\n",
       "    </tr>\n",
       "  </tbody>\n",
       "</table>\n",
       "</div>"
      ],
      "text/plain": [
       "    typeNO  codPointer  drwGX  drwGY  dwrLev  drwHei  drwPos drwRel  \\\n",
       "cod                                                                   \n",
       "6      tag           5     -1     -1      -1      -1      -1          \n",
       "\n",
       "     booActive  codTAG strNAME strTYPE  booLEAF  codNO  \n",
       "cod                                                     \n",
       "6            1       5     LAT     tag        0      6  "
      ]
     },
     "execution_count": 30,
     "metadata": {},
     "output_type": "execute_result"
    }
   ],
   "source": [
    "r"
   ]
  },
  {
   "cell_type": "code",
   "execution_count": 4,
   "metadata": {},
   "outputs": [
    {
     "ename": "NameError",
     "evalue": "name 'p' is not defined",
     "output_type": "error",
     "traceback": [
      "\u001b[1;31m---------------------------------------------------------------------------\u001b[0m",
      "\u001b[1;31mNameError\u001b[0m                                 Traceback (most recent call last)",
      "\u001b[1;32m<ipython-input-4-6c10289a8da7>\u001b[0m in \u001b[0;36m<module>\u001b[1;34m()\u001b[0m\n\u001b[1;32m----> 1\u001b[1;33m \u001b[0mp\u001b[0m\u001b[1;33m\u001b[0m\u001b[0m\n\u001b[0m",
      "\u001b[1;31mNameError\u001b[0m: name 'p' is not defined"
     ]
    }
   ],
   "source": [
    "p"
   ]
  },
  {
   "cell_type": "code",
   "execution_count": 1,
   "metadata": {},
   "outputs": [],
   "source": [
    "import criarDBTemp as db\n"
   ]
  },
  {
   "cell_type": "code",
   "execution_count": 2,
   "metadata": {},
   "outputs": [
    {
     "name": "stdout",
     "output_type": "stream",
     "text": [
      "DNC>Zouk>V1>Condutor>BAS>LAT>ESQ\n",
      "DNC>Zouk>V1>Condutor>BAS>LAT>DIR\n",
      "DNC>Zouk>V1>Condutor>BAS>VER>FRT\n",
      "DNC>Zouk>V1>Condutor>BAS>VER>TRZ\n",
      "DNC>Zouk>V1>Condutor>BAS>LUG>ESQ\n",
      "DNC>Zouk>V1>Condutor>BAS>LUG>DIR\n",
      "DNC>Zouk>V1>Conduzido>BAS>LAT>ESQ\n",
      "DNC>Zouk>V1>Conduzido>BAS>LAT>DIR\n",
      "DNC>Zouk>V1>Conduzido>BAS>VER>FRT\n",
      "DNC>Zouk>V1>Conduzido>BAS>VER>TRZ\n",
      "DNC>Zouk>V1>Conduzido>BAS>LUG>ESQ\n",
      "DNC>Zouk>V1>Conduzido>BAS>LUG>DIR\n"
     ]
    }
   ],
   "source": [
    "db.recPrint(1)"
   ]
  },
  {
   "cell_type": "code",
   "execution_count": 5,
   "metadata": {},
   "outputs": [],
   "source": [
    "import os"
   ]
  },
  {
   "cell_type": "code",
   "execution_count": 2,
   "metadata": {},
   "outputs": [
    {
     "name": "stdout",
     "output_type": "stream",
     "text": [
      "DNC_Zouk_V1_Condutor_BAS_LAT_ESQ não existe!\n",
      "DNC_Zouk_V1_Condutor_BAS_LAT_DIR existe!\n",
      "DNC_Zouk_V1_Condutor_BAS_VER_FRT não existe!\n",
      "DNC_Zouk_V1_Condutor_BAS_VER_TRZ não existe!\n",
      "DNC_Zouk_V1_Condutor_BAS_LUG_ESQ não existe!\n",
      "DNC_Zouk_V1_Condutor_BAS_LUG_DIR não existe!\n",
      "DNC_Zouk_V1_Conduzido_BAS_LAT_ESQ não existe!\n",
      "DNC_Zouk_V1_Conduzido_BAS_LAT_DIR não existe!\n",
      "DNC_Zouk_V1_Conduzido_BAS_VER_FRT não existe!\n",
      "DNC_Zouk_V1_Conduzido_BAS_VER_TRZ não existe!\n",
      "DNC_Zouk_V1_Conduzido_BAS_LUG_ESQ não existe!\n",
      "DNC_Zouk_V1_Conduzido_BAS_LUG_DIR não existe!\n"
     ]
    }
   ],
   "source": [
    "db.recCheckLeafForTxt(1)"
   ]
  },
  {
   "cell_type": "code",
   "execution_count": 9,
   "metadata": {},
   "outputs": [
    {
     "data": {
      "text/plain": [
       "'C:\\\\Users\\\\Ronie\\\\prog\\\\vDNC\\\\root\\\\src'"
      ]
     },
     "execution_count": 9,
     "metadata": {},
     "output_type": "execute_result"
    }
   ],
   "source": []
  }
 ],
 "metadata": {
  "kernelspec": {
   "display_name": "Python 3",
   "language": "python",
   "name": "python3"
  },
  "language_info": {
   "codemirror_mode": {
    "name": "ipython",
    "version": 3
   },
   "file_extension": ".py",
   "mimetype": "text/x-python",
   "name": "python",
   "nbconvert_exporter": "python",
   "pygments_lexer": "ipython3",
   "version": "3.6.3"
  }
 },
 "nbformat": 4,
 "nbformat_minor": 2
}
