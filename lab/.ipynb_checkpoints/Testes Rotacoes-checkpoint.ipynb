{
 "cells": [
  {
   "cell_type": "markdown",
   "id": "90d68ff9",
   "metadata": {},
   "source": [
    "Rodar Imagens\n",
    "\n",
    "https://www.geeksforgeeks.org/how-to-rotate-an-image-using-python/\n",
    "\n",
    "Usando Pillow e OpenCv\n",
    "\n",
    "Sei lá qual o melhor\n",
    "\n",
    "Li que o PIL está descontinuado. Entao, vou testar opencv. Até pq lá devo encontrar mais funções. E já trabalhei com openCV no passado."
   ]
  },
  {
   "cell_type": "code",
   "execution_count": 1,
   "id": "cb4a7098",
   "metadata": {},
   "outputs": [],
   "source": [
    "# https://pypi.org/project/opencv-python/\n",
    "# https://github.com/opencv/opencv-python"
   ]
  },
  {
   "cell_type": "code",
   "execution_count": null,
   "id": "98ada891",
   "metadata": {},
   "outputs": [],
   "source": []
  }
 ],
 "metadata": {
  "kernelspec": {
   "display_name": "vDNC",
   "language": "python",
   "name": "vdnc"
  },
  "language_info": {
   "codemirror_mode": {
    "name": "ipython",
    "version": 3
   },
   "file_extension": ".py",
   "mimetype": "text/x-python",
   "name": "python",
   "nbconvert_exporter": "python",
   "pygments_lexer": "ipython3",
   "version": "3.8.10"
  }
 },
 "nbformat": 4,
 "nbformat_minor": 5
}
