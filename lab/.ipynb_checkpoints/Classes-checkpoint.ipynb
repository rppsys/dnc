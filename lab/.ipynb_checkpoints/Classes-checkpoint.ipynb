{
 "cells": [
  {
   "cell_type": "code",
   "execution_count": 8,
   "id": "d7d4a49b",
   "metadata": {},
   "outputs": [],
   "source": [
    "class ClassePe:\n",
    "    def __new__(cls, *args, **kwargs):\n",
    "        # print(\"1. Create a new instance of Point.\")\n",
    "        return super().__new__(cls)\n",
    "\n",
    "    def __init__(self,name, b, x, y):\n",
    "        # print(\"2. Initialize the new instance of Point.\")\n",
    "        self.name = name #Nome do Pé\n",
    "        self.b = b # Qual pé? 0 = Falso = Pé Esquerdo / 1 = True = Pé Direito / Por isso b de booleano\n",
    "        self.x = x # Posição x do pé no plano cartesiano\n",
    "        self.y = y # Posição y do pé no plano cartesiano\n",
    "\n",
    "        # Parâmetros Pré-Definidos\n",
    "        self.DJ = 2.0 # Distância Entre Pés Juntos = 2\n",
    "        self.DP = 4.0 # Distância de Passo = 4 tanto em x quanto em y\n",
    "\n",
    "    def __repr__(self) -> str:\n",
    "        return f\"{type(self).__name__}(name={self.name}, b={self.b}, x={self.x}, y={self.y})\"\n",
    "    \n",
    "    def retPeMirror(self):\n",
    "        '''Retorna a Classe ClasePe que é o espelhamento (mirror) do Objeto Pe atual'''\n",
    "        strNovoNome = '/{}'.format(self.name) # O nome vai ser um / nome significa que o Pe foi espelhado\n",
    "        if (self.b): # Se Verdadeiro = 1 = Pé Direito\n",
    "            booNovoB = False\n",
    "            floatNovoX = self.x - self.DJ\n",
    "            floatNovoY = self.y\n",
    "        else: # Se Falso = 0 = Pé Esquerdo\n",
    "            booNovoB = True\n",
    "            floatNovoX = self.x + self.DJ\n",
    "            floatNovoY = self.y\n",
    "        retPe = ClassePe(strNovoNome,booNovoB,floatNovoX,floatNovoY)\n",
    "        return retPe\n",
    "\n",
    "    "
   ]
  },
  {
   "cell_type": "code",
   "execution_count": 9,
   "id": "93517863",
   "metadata": {},
   "outputs": [
    {
     "data": {
      "text/plain": [
       "ClassePe(name=PROJECAO, b=True, x=5, y=5)"
      ]
     },
     "execution_count": 9,
     "metadata": {},
     "output_type": "execute_result"
    }
   ],
   "source": [
    "pE = ClassePe('pE',False,-1.0,0.0)\n",
    "pE.projeta()"
   ]
  }
 ],
 "metadata": {
  "kernelspec": {
   "display_name": "vDNC",
   "language": "python",
   "name": "vdnc"
  },
  "language_info": {
   "codemirror_mode": {
    "name": "ipython",
    "version": 3
   },
   "file_extension": ".py",
   "mimetype": "text/x-python",
   "name": "python",
   "nbconvert_exporter": "python",
   "pygments_lexer": "ipython3",
   "version": "3.8.10"
  }
 },
 "nbformat": 4,
 "nbformat_minor": 5
}
