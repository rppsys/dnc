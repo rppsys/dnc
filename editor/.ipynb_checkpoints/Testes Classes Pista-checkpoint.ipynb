{
 "cells": [
  {
   "cell_type": "code",
   "execution_count": 1,
   "id": "a23268d7",
   "metadata": {},
   "outputs": [
    {
     "data": {
      "text/plain": [
       "<Figure size 896x350 with 0 Axes>"
      ]
     },
     "metadata": {},
     "output_type": "display_data"
    }
   ],
   "source": [
    "%matplotlib notebook\n",
    "import stepPlot as sp\n",
    "Pista = sp.ClassePista('Pista',20)"
   ]
  },
  {
   "cell_type": "code",
   "execution_count": 2,
   "id": "692f1d81",
   "metadata": {},
   "outputs": [
    {
     "data": {
      "text/plain": [
       "<Figure size 640x480 with 0 Axes>"
      ]
     },
     "metadata": {},
     "output_type": "display_data"
    }
   ],
   "source": [
    "Pista.plotSomentePista()"
   ]
  }
 ],
 "metadata": {
  "kernelspec": {
   "display_name": "vDNC",
   "language": "python",
   "name": "vdnc"
  },
  "language_info": {
   "codemirror_mode": {
    "name": "ipython",
    "version": 3
   },
   "file_extension": ".py",
   "mimetype": "text/x-python",
   "name": "python",
   "nbconvert_exporter": "python",
   "pygments_lexer": "ipython3",
   "version": "3.8.10"
  }
 },
 "nbformat": 4,
 "nbformat_minor": 5
}
