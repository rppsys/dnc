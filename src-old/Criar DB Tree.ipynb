{
 "cells": [
  {
   "cell_type": "code",
   "execution_count": 1,
   "metadata": {},
   "outputs": [],
   "source": [
    "import criarDBTree as ce"
   ]
  },
  {
   "cell_type": "code",
   "execution_count": 2,
   "metadata": {},
   "outputs": [
    {
     "name": "stdout",
     "output_type": "stream",
     "text": [
      "tbNO:\n",
      "    typeNO  codPointer  drwGX  drwGY  drwLev  drwHei  drwPos drwRel  booActive\n",
      "cod                                                                           \n",
      "1     root           0     -1     -1      -1      -1      -1                 1\n",
      "2      cls           1     -1     -1      -1      -1      -1                 1\n",
      "3      cls           2     -1     -1      -1      -1      -1                 1\n",
      "4      cls           3     -1     -1      -1      -1      -1                 1\n",
      "5      obj           1     -1     -1      -1      -1      -1                 1\n",
      "6      obj           2     -1     -1      -1      -1      -1                 1\n",
      "7      stp           1     -1     -1      -1      -1      -1                 1\n",
      "8      stp           2     -1     -1      -1      -1      -1                 1\n",
      "9      stp           3     -1     -1      -1      -1      -1                 1\n",
      "10     stp           4     -1     -1      -1      -1      -1                 1\n",
      "11     stp           5     -1     -1      -1      -1      -1                 1\n",
      "12     stp           6     -1     -1      -1      -1      -1                 1\n",
      "13     stp           7     -1     -1      -1      -1      -1                 1\n",
      "14     stp           8     -1     -1      -1      -1      -1                 1\n",
      "15     stp           9     -1     -1      -1      -1      -1                 1\n",
      "tbAD:\n",
      "       typeAD  codFrom  codTo\n",
      "cod                          \n",
      "1    root-cls        1      2\n",
      "2    root-cls        1      3\n",
      "3    root-cls        1      4\n",
      "4     cls-obj        2      5\n",
      "5     cls-obj        2      6\n",
      "6     cls-stp        2      7\n",
      "7     cls-stp        2      8\n",
      "8     cls-stp        2      9\n",
      "9     cls-stp        2     10\n",
      "10    cls-stp        2     11\n",
      "11    cls-stp        2     12\n",
      "12    cls-stp        2     13\n",
      "13    cls-stp        2     14\n",
      "14    cls-stp        2     15\n",
      "tbCLS:\n",
      "    strNAME  codNO\n",
      "cod               \n",
      "1        PE      2\n",
      "2    PEGADA      3\n",
      "3    POSPAR      4\n",
      "tbOBJ:\n",
      "    strNAME  codNO\n",
      "cod               \n",
      "1        pD      5\n",
      "2        pE      6\n",
      "tbSTP:\n",
      "    strNAME                                            strDESC  codNO\n",
      "cod                                                                  \n",
      "1       ABR  Abrir normal: Afastar um pé do outro na direçã...      7\n",
      "2       ACF  Cruzar a frente: Abertura, mas o pé que se mov...      8\n",
      "3       ACT  Cruzar a traz: Abertura, mas o pé que se movim...      9\n",
      "4       JUN  Juntar normal: Deslocar o pé para a posição no...     10\n",
      "5       JCF  Juntar cruzado à frente: Ao juntar o pé passa ...     11\n",
      "6       JCT  Juntar cruzado à traz: Ao juntar o pé passa po...     12\n",
      "7       FRT                             Frente: Passo à frente     13\n",
      "8       TRS                                 Tras: Passo a tras     14\n",
      "9       LUG  Lugar: O pé levanta e desce permanecendo no me...     15\n"
     ]
    }
   ],
   "source": [
    "ce.mostrar()"
   ]
  },
  {
   "cell_type": "code",
   "execution_count": null,
   "metadata": {},
   "outputs": [],
   "source": []
  }
 ],
 "metadata": {
  "kernelspec": {
   "display_name": "Python 3",
   "language": "python",
   "name": "python3"
  },
  "language_info": {
   "codemirror_mode": {
    "name": "ipython",
    "version": 3
   },
   "file_extension": ".py",
   "mimetype": "text/x-python",
   "name": "python",
   "nbconvert_exporter": "python",
   "pygments_lexer": "ipython3",
   "version": "3.6.3"
  }
 },
 "nbformat": 4,
 "nbformat_minor": 2
}
