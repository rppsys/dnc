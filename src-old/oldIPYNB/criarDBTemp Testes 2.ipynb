{
 "cells": [
  {
   "cell_type": "code",
   "execution_count": 1,
   "metadata": {},
   "outputs": [],
   "source": [
    "import criarDBTemp as db"
   ]
  },
  {
   "cell_type": "code",
   "execution_count": 2,
   "metadata": {},
   "outputs": [
    {
     "name": "stdout",
     "output_type": "stream",
     "text": [
      "tbNO:\n",
      "    typeNO  codPointer  drwGX  drwGY  drwLev  drwHei  drwPos drwRel  booActive\n",
      "cod                                                                           \n",
      "1     root           0     -1     -1      -1      -1      -1                 1\n",
      "2      tag           1     -1     -1      -1      -1      -1                 1\n",
      "3      tag           2     -1     -1      -1      -1      -1                 1\n",
      "4      tag           3     -1     -1      -1      -1      -1                 1\n",
      "5      tag           4     -1     -1      -1      -1      -1                 1\n",
      "6      tag           5     -1     -1      -1      -1      -1                 1\n",
      "7      tag           6     -1     -1      -1      -1      -1                 1\n",
      "8      tag           7     -1     -1      -1      -1      -1                 1\n",
      "9      tag           8     -1     -1      -1      -1      -1                 1\n",
      "10     tag           9     -1     -1      -1      -1      -1                 1\n",
      "11     tag          10     -1     -1      -1      -1      -1                 1\n",
      "12     tag          11     -1     -1      -1      -1      -1                 1\n",
      "13     tag          12     -1     -1      -1      -1      -1                 1\n",
      "14     tag          13     -1     -1      -1      -1      -1                 1\n",
      "15     tag          14     -1     -1      -1      -1      -1                 1\n",
      "16     tag          15     -1     -1      -1      -1      -1                 1\n",
      "17     tag          16     -1     -1      -1      -1      -1                 1\n",
      "18     tag          17     -1     -1      -1      -1      -1                 1\n",
      "19     tag          18     -1     -1      -1      -1      -1                 1\n",
      "20     tag          19     -1     -1      -1      -1      -1                 1\n",
      "21     tag          20     -1     -1      -1      -1      -1                 1\n",
      "22     tag          21     -1     -1      -1      -1      -1                 1\n",
      "23     tag          22     -1     -1      -1      -1      -1                 1\n",
      "24     tag          23     -1     -1      -1      -1      -1                 1\n",
      "25     tag          24     -1     -1      -1      -1      -1                 1\n",
      "tbAD:\n",
      "       typeAD  codFrom  codTo\n",
      "cod                          \n",
      "1    root-mod        1      2\n",
      "2     mod-sub        2      3\n",
      "3    sub-cond        3      4\n",
      "4    cond-tag        4      5\n",
      "5     tag-tag        5      6\n",
      "6    tag-leaf        6      7\n",
      "7    tag-leaf        6      8\n",
      "8     tag-tag        5      9\n",
      "9    tag-leaf        9     10\n",
      "10   tag-leaf        9     11\n",
      "11    tag-tag        5     12\n",
      "12   tag-leaf       12     13\n",
      "13   tag-leaf       12     14\n",
      "14   sub-cond        3     15\n",
      "15   cond-tag       15     16\n",
      "16    tag-tag       16     17\n",
      "17   tag-leaf       17     18\n",
      "18   tag-leaf       17     19\n",
      "19    tag-tag       16     20\n",
      "20   tag-leaf       20     21\n",
      "21   tag-leaf       20     22\n",
      "22    tag-tag       16     23\n",
      "23   tag-leaf       23     24\n",
      "24   tag-leaf       23     25\n",
      "tbTAG:\n",
      "       strNAME strTYPE  booLEAF  codNO\n",
      "cod                                   \n",
      "1         Zouk     mod        0      2\n",
      "2           V1     sub        0      3\n",
      "3     Condutor    cond        0      4\n",
      "4          BAS     tag        0      5\n",
      "5          LAT     tag        0      6\n",
      "6          ESQ    leaf        0      7\n",
      "7          DIR    leaf        0      8\n",
      "8          VER     tag        0      9\n",
      "9          FRT    leaf        0     10\n",
      "10         TRZ    leaf        0     11\n",
      "11         LUG     tag        0     12\n",
      "12         ESQ    leaf        0     13\n",
      "13         DIR    leaf        0     14\n",
      "14   Conduzido    cond        0     15\n",
      "15         BAS     tag        0     16\n",
      "16         LAT     tag        0     17\n",
      "17         ESQ    leaf        0     18\n",
      "18         DIR    leaf        0     19\n",
      "19         VER     tag        0     20\n",
      "20         FRT    leaf        0     21\n",
      "21         TRZ    leaf        0     22\n",
      "22         LUG     tag        0     23\n",
      "23         ESQ    leaf        0     24\n",
      "24         DIR    leaf        0     25\n"
     ]
    }
   ],
   "source": [
    "db.gerarDB('Zouk2')"
   ]
  },
  {
   "cell_type": "code",
   "execution_count": null,
   "metadata": {},
   "outputs": [],
   "source": []
  }
 ],
 "metadata": {
  "kernelspec": {
   "display_name": "Python 3",
   "language": "python",
   "name": "python3"
  },
  "language_info": {
   "codemirror_mode": {
    "name": "ipython",
    "version": 3
   },
   "file_extension": ".py",
   "mimetype": "text/x-python",
   "name": "python",
   "nbconvert_exporter": "python",
   "pygments_lexer": "ipython3",
   "version": "3.6.3"
  }
 },
 "nbformat": 4,
 "nbformat_minor": 2
}
