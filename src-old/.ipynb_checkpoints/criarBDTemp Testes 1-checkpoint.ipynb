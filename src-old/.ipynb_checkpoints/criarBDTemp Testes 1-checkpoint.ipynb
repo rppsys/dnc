{
 "cells": [
  {
   "cell_type": "code",
   "execution_count": 1,
   "metadata": {},
   "outputs": [],
   "source": []
  },
  {
   "cell_type": "code",
   "execution_count": 2,
   "metadata": {},
   "outputs": [
    {
     "name": "stdout",
     "output_type": "stream",
     "text": [
      "tbNO:\n",
      "    typeNO  codPointer  drwGX  drwGY  drwLev  drwHei  drwPos drwRel  booActive\n",
      "cod                                                                           \n",
      "1      tag           1     -1     -1      -1      -1      -1                 1\n",
      "tbAD:\n",
      "Empty DataFrame\n",
      "Columns: [typeAD, codFrom, codTo]\n",
      "Index: []\n",
      "tbTAG:\n",
      "    strNAME strTYPE  booLEAF  codNO\n",
      "cod                                \n",
      "1     TESTE     tst        0      1\n"
     ]
    }
   ],
   "source": [
    "import criarDBTemp as db\n",
    "db.teste()\n"
   ]
  },
  {
   "cell_type": "code",
   "execution_count": null,
   "metadata": {},
   "outputs": [],
   "source": []
  }
 ],
 "metadata": {
  "kernelspec": {
   "display_name": "Python 3",
   "language": "python",
   "name": "python3"
  },
  "language_info": {
   "codemirror_mode": {
    "name": "ipython",
    "version": 3
   },
   "file_extension": ".py",
   "mimetype": "text/x-python",
   "name": "python",
   "nbconvert_exporter": "python",
   "pygments_lexer": "ipython3",
   "version": "3.6.3"
  }
 },
 "nbformat": 4,
 "nbformat_minor": 2
}
