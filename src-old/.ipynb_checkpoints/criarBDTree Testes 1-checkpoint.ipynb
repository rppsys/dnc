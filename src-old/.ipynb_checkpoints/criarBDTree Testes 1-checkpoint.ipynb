{
 "cells": [
  {
   "cell_type": "code",
   "execution_count": 1,
   "metadata": {},
   "outputs": [],
   "source": [
    "import criarDBTree as db"
   ]
  },
  {
   "cell_type": "code",
   "execution_count": 2,
   "metadata": {},
   "outputs": [
    {
     "name": "stdout",
     "output_type": "stream",
     "text": [
      "tbNO:\n",
      "    typeNO  codPointer  drwGX  drwGY  drwLev  drwHei  drwPos drwRel  booActive\n",
      "cod                                                                           \n",
      "1     root           0     -1     -1      -1      -1      -1                 1\n",
      "2      cls           1     -1     -1      -1      -1      -1                 1\n",
      "3      cls           2     -1     -1      -1      -1      -1                 1\n",
      "4      cls           3     -1     -1      -1      -1      -1                 1\n",
      "tbAD:\n",
      "       typeAD  codFrom  codTo\n",
      "cod                          \n",
      "1    root-cls        1      2\n",
      "2    root-cls        1      3\n",
      "3    root-cls        1      4\n",
      "tbCLS:\n",
      "    strNAME  codNO\n",
      "cod               \n",
      "1        PE      2\n",
      "2    PEGADA      3\n",
      "3    POSPAR      4\n",
      "tbOBJ:\n",
      "Empty DataFrame\n",
      "Columns: [strNAME, codNO]\n",
      "Index: []\n",
      "tbSTP:\n",
      "Empty DataFrame\n",
      "Columns: [strTAG, strDESC, codNO]\n",
      "Index: []\n"
     ]
    }
   ],
   "source": [
    "db.teste()"
   ]
  },
  {
   "cell_type": "code",
   "execution_count": 2,
   "metadata": {},
   "outputs": [
    {
     "ename": "SyntaxError",
     "evalue": "invalid syntax (<ipython-input-2-6b5ce605e418>, line 2)",
     "output_type": "error",
     "traceback": [
      "\u001b[1;36m  File \u001b[1;32m\"<ipython-input-2-6b5ce605e418>\"\u001b[1;36m, line \u001b[1;32m2\u001b[0m\n\u001b[1;33m    db.findTbFieldByValue('tbCLS','strNAME',''''PE'''','codNO')\u001b[0m\n\u001b[1;37m                                                            ^\u001b[0m\n\u001b[1;31mSyntaxError\u001b[0m\u001b[1;31m:\u001b[0m invalid syntax\n"
     ]
    }
   ],
   "source": [
    "import criarDBTree as db\n",
    "db.findTbFieldByValue('tbCLS','strNAME','\"'PE'\"','codNO')"
   ]
  },
  {
   "cell_type": "code",
   "execution_count": null,
   "metadata": {},
   "outputs": [],
   "source": []
  }
 ],
 "metadata": {
  "kernelspec": {
   "display_name": "Python 3",
   "language": "python",
   "name": "python3"
  }
 },
 "nbformat": 4,
 "nbformat_minor": 2
}
