{
 "cells": [
  {
   "cell_type": "code",
   "execution_count": 22,
   "metadata": {},
   "outputs": [
    {
     "name": "stdout",
     "output_type": "stream",
     "text": [
      "['DNC_Zouk_V1_Condutor_BAS_LAT_DIR']\n",
      "1\n",
      "['1', '2', '3', 'pD.ABR']\n",
      "2\n",
      "['2', '1', '1', 'pE.JCF']\n",
      "3\n",
      "['3', '1', '2', 'pD.LUG']\n",
      "4\n",
      "Nome = \n",
      "Total = 0\n",
      "Primeiro = pD.ABR\n",
      "Ultimo = \n"
     ]
    }
   ],
   "source": [
    "import csv\n",
    "\n",
    "with open('teste.txt') as csvfile:\n",
    "        #Tomo a prerrogativa de que o arquivo .txt possui um formato step válido\n",
    "    \n",
    "        # Propriedades de Interesse\n",
    "        retStrName = ''\n",
    "        retNumTot = 0\n",
    "        retPeFirst = ''\n",
    "        retPeLast = ''\n",
    "   \n",
    "        #Abre o arquivo e coleta informações\n",
    "        spamreader = csv.reader(csvfile, delimiter=':', quotechar='|')\n",
    "        numLinha= 0\n",
    "        lastLinha = spamreader.line_num\n",
    "        for row in spamreader:\n",
    "            print(row)\n",
    "            numLinha+= 1\n",
    "            lenRow = len(row)\n",
    "            print(numLinha)\n",
    "            \n",
    "            if numLinha== 1:\n",
    "                retStrName = row[0]\n",
    "            else:\n",
    "                if lenRow >= 4:\n",
    "                    retNumTot += int(row[0])\n",
    "                    if numLinha == 2:\n",
    "                        retPeFirst = row[3]\n",
    "                    if numLinha == lastLinha:\n",
    "                        retPeLast = row[3]\n",
    "    \n",
    "    \n",
    "        print('Nome = ' + retStrName)\n",
    "        print('Total = ' + str(retNumTot))\n",
    "        print('Primeiro = ' + retPeFirst)\n",
    "        print('Ultimo = ' + retPeLast)\n",
    "                    \n",
    "            \n",
    "            \n",
    "            \n",
    "            \n",
    "    "
   ]
  },
  {
   "cell_type": "code",
   "execution_count": null,
   "metadata": {},
   "outputs": [],
   "source": []
  }
 ],
 "metadata": {
  "kernelspec": {
   "display_name": "Python 3",
   "language": "python",
   "name": "python3"
  },
  "language_info": {
   "codemirror_mode": {
    "name": "ipython",
    "version": 3
   },
   "file_extension": ".py",
   "mimetype": "text/x-python",
   "name": "python",
   "nbconvert_exporter": "python",
   "pygments_lexer": "ipython3",
   "version": "3.6.3"
  }
 },
 "nbformat": 4,
 "nbformat_minor": 2
}
